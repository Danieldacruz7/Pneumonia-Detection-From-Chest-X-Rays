{
 "cells": [
  {
   "cell_type": "code",
   "execution_count": 1,
   "metadata": {},
   "outputs": [
    {
     "name": "stderr",
     "output_type": "stream",
     "text": [
      "Using TensorFlow backend.\n"
     ]
    }
   ],
   "source": [
    "import numpy as np\n",
    "import pandas as pd\n",
    "import pydicom\n",
    "%matplotlib inline\n",
    "import matplotlib.pyplot as plt\n",
    "import keras \n",
    "import tensorflow as tf"
   ]
  },
  {
   "cell_type": "code",
   "execution_count": 2,
   "metadata": {},
   "outputs": [],
   "source": [
    "def check_dicom(filename):\n",
    "    \"\"\"\n",
    "    This function reads in a .dcm file, checks the important fields for our device, \n",
    "    and returns a numpy array of just the imaging data.\n",
    "    \"\"\"\n",
    "    print('Load file {} ...'.format(filename))\n",
    "    ds = pydicom.dcmread(filename) \n",
    "    \n",
    "    if ds.Modality != 'DX':\n",
    "        print(\"There is an error in the file - {}. Incorrect image type.\".format(filename))\n",
    "        return None\n",
    "    if ds.PatientPosition not in ['AP', 'PA']:\n",
    "        print(\"There is an error in the file - {}. Incorrect patient position.\".format(filename))\n",
    "        return None\n",
    "    if ds.BodyPartExamined != 'CHEST':\n",
    "        print(\"There is an error in the file - {}. Incorrect body part examined.\".format(filename))\n",
    "        return None\n",
    "    img = ds.pixel_array\n",
    "    return img\n",
    "     \n",
    "def preprocess_image(img,img_mean,img_std,img_size): \n",
    "    \"\"\"\n",
    "    This function takes the numpy array output by check_dicom and\n",
    "    runs the appropriate pre-processing needed for our model input.\n",
    "    \n",
    "    \"\"\"\n",
    "\n",
    "    proc_img = (img - img_mean)/img_std\n",
    "    proc_img =  np.resize(proc_img, img_size)\n",
    "    \n",
    "    return proc_img\n",
    " \n",
    "def load_model(model_path, weight_path):\n",
    "    \"\"\"This function loads in our trained model w/ weights and compiles it. \"\"\"\n",
    "    with open(model_path, 'r') as json_file:\n",
    "        saved_model = json_file.read()\n",
    "        \n",
    "    model = tf.keras.models.model_from_json(saved_model)\n",
    "    model.load_weights(weight_path)\n",
    "    \n",
    "    return model\n",
    "\n",
    "def predict_image(model, img, thresh): \n",
    "    \"\"\"\n",
    "    This function uses our device's threshold parameters to predict whether or not\n",
    "    the image shows the presence of pneumonia using our trained model.\n",
    "    \n",
    "    \"\"\"    \n",
    "    result = model.predict(img)  \n",
    "    predict=result[0]\n",
    "    prediction='No pneumonia'\n",
    "    if(predict>thresh):\n",
    "        prediction='Pneumonia'\n",
    "    \n",
    "    return prediction "
   ]
  },
  {
   "cell_type": "code",
   "execution_count": 3,
   "metadata": {},
   "outputs": [
    {
     "name": "stdout",
     "output_type": "stream",
     "text": [
      "Load file test1.dcm ...\n",
      "No pneumonia\n",
      "Load file test2.dcm ...\n",
      "Pneumonia\n",
      "Load file test3.dcm ...\n",
      "Pneumonia\n",
      "Load file test4.dcm ...\n",
      "There is an error in the file - test4.dcm. Incorrect body part examined.\n",
      "Load file test5.dcm ...\n",
      "There is an error in the file - test5.dcm. Incorrect image type.\n",
      "Load file test6.dcm ...\n",
      "There is an error in the file - test6.dcm. Incorrect patient position.\n"
     ]
    }
   ],
   "source": [
    "test_dicoms = ['test1.dcm','test2.dcm','test3.dcm','test4.dcm','test5.dcm','test6.dcm']\n",
    "\n",
    "model_path = 'final_model.json' # Path to saved model\n",
    "weight_path = 'xray_class_model.best.hdf5' # Path to saved best weights\n",
    "\n",
    "IMG_SIZE=(1, 224,224,3) # This might be different if you did not use vgg16\n",
    "\n",
    "mean_list = []\n",
    "std_list = []\n",
    "for i in test_dicoms:\n",
    "    ds = pydicom.dcmread('test2.dcm') \n",
    "    img = ds.pixel_array\n",
    "    mean = np.mean(img)/255\n",
    "    stand_dev = np.std(img)/255\n",
    "    mean_list.append(mean)\n",
    "    std_list.append(stand_dev)\n",
    "\n",
    "img_mean = np.mean(mean_list) # loads the mean image value\n",
    "img_std = np.mean(std_list) # loads the std dev image value\n",
    "\n",
    "my_model = load_model(model_path, weight_path) #loads model\n",
    "thresh = 0.62 #loads the threshold they chose for model classification \n",
    "\n",
    "# use the .dcm files to test your prediction\n",
    "for i in test_dicoms:\n",
    "    \n",
    "    img = np.array([])\n",
    "    img = check_dicom(i)\n",
    "    \n",
    "    if img is None:\n",
    "        continue\n",
    "        \n",
    "    img_proc = preprocess_image(img,img_mean,img_std,IMG_SIZE)\n",
    "    \n",
    "    pred = predict_image(my_model,img_proc,thresh)\n",
    "    print(pred)"
   ]
  }
 ],
 "metadata": {
  "kernelspec": {
   "display_name": "Python 3",
   "language": "python",
   "name": "python3"
  },
  "language_info": {
   "codemirror_mode": {
    "name": "ipython",
    "version": 3
   },
   "file_extension": ".py",
   "mimetype": "text/x-python",
   "name": "python",
   "nbconvert_exporter": "python",
   "pygments_lexer": "ipython3",
   "version": "3.7.6"
  }
 },
 "nbformat": 4,
 "nbformat_minor": 2
}
